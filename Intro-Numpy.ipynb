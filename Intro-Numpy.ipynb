{
 "cells": [
  {
   "cell_type": "markdown",
   "id": "de8785d0",
   "metadata": {},
   "source": [
    "# NUMPY"
   ]
  },
  {
   "cell_type": "code",
   "execution_count": 1,
   "id": "76f1044e",
   "metadata": {},
   "outputs": [],
   "source": [
    "import numpy as np"
   ]
  },
  {
   "cell_type": "markdown",
   "id": "6c7e95af",
   "metadata": {},
   "source": [
    "# DataType & Attributes"
   ]
  },
  {
   "cell_type": "markdown",
   "id": "016c6e17",
   "metadata": {},
   "source": [
    "# NP.ARRAY\n",
    "\n",
    "* Create an array"
   ]
  },
  {
   "cell_type": "code",
   "execution_count": 2,
   "id": "a853586f",
   "metadata": {},
   "outputs": [
    {
     "data": {
      "text/plain": [
       "array([1, 2, 3])"
      ]
     },
     "execution_count": 2,
     "metadata": {},
     "output_type": "execute_result"
    }
   ],
   "source": [
    "al =np.array([1,2,3])\n",
    "al"
   ]
  },
  {
   "cell_type": "markdown",
   "id": "bf3a0d1c",
   "metadata": {},
   "source": [
    "# TYPE\n",
    "\n",
    "* type(object) -> the object's type"
   ]
  },
  {
   "cell_type": "code",
   "execution_count": 3,
   "id": "4365204e",
   "metadata": {},
   "outputs": [
    {
     "data": {
      "text/plain": [
       "numpy.ndarray"
      ]
     },
     "execution_count": 3,
     "metadata": {},
     "output_type": "execute_result"
    }
   ],
   "source": [
    "type(al)"
   ]
  },
  {
   "cell_type": "code",
   "execution_count": 4,
   "id": "d09a8bff",
   "metadata": {},
   "outputs": [
    {
     "data": {
      "text/plain": [
       "array([[ 1,  2,  3],\n",
       "       [12, 32, 34]])"
      ]
     },
     "execution_count": 4,
     "metadata": {},
     "output_type": "execute_result"
    }
   ],
   "source": [
    "a2= np.array([[1,2,3],[12,32,34]])\n",
    "a2"
   ]
  },
  {
   "cell_type": "code",
   "execution_count": 5,
   "id": "c6609910",
   "metadata": {},
   "outputs": [
    {
     "data": {
      "text/plain": [
       "(3,)"
      ]
     },
     "execution_count": 5,
     "metadata": {},
     "output_type": "execute_result"
    }
   ],
   "source": [
    "al.shape"
   ]
  },
  {
   "cell_type": "code",
   "execution_count": 6,
   "id": "70f56abc",
   "metadata": {},
   "outputs": [
    {
     "data": {
      "text/plain": [
       "(2, 3)"
      ]
     },
     "execution_count": 6,
     "metadata": {},
     "output_type": "execute_result"
    }
   ],
   "source": [
    "a2.shape"
   ]
  },
  {
   "cell_type": "code",
   "execution_count": 7,
   "id": "34ac7940",
   "metadata": {},
   "outputs": [
    {
     "data": {
      "text/plain": [
       "1"
      ]
     },
     "execution_count": 7,
     "metadata": {},
     "output_type": "execute_result"
    }
   ],
   "source": [
    "# demison\n",
    "al.ndim"
   ]
  },
  {
   "cell_type": "code",
   "execution_count": 8,
   "id": "4ba0b0fc",
   "metadata": {},
   "outputs": [
    {
     "data": {
      "text/plain": [
       "2"
      ]
     },
     "execution_count": 8,
     "metadata": {},
     "output_type": "execute_result"
    }
   ],
   "source": [
    "a2.ndim"
   ]
  },
  {
   "cell_type": "code",
   "execution_count": 9,
   "id": "17b423da",
   "metadata": {},
   "outputs": [
    {
     "data": {
      "text/plain": [
       "dtype('int32')"
      ]
     },
     "execution_count": 9,
     "metadata": {},
     "output_type": "execute_result"
    }
   ],
   "source": [
    "a2.dtype"
   ]
  },
  {
   "cell_type": "code",
   "execution_count": 10,
   "id": "1d92fee2",
   "metadata": {},
   "outputs": [
    {
     "data": {
      "text/plain": [
       "3"
      ]
     },
     "execution_count": 10,
     "metadata": {},
     "output_type": "execute_result"
    }
   ],
   "source": [
    "al.size"
   ]
  },
  {
   "cell_type": "code",
   "execution_count": 11,
   "id": "ca922487",
   "metadata": {},
   "outputs": [
    {
     "data": {
      "text/plain": [
       "6"
      ]
     },
     "execution_count": 11,
     "metadata": {},
     "output_type": "execute_result"
    }
   ],
   "source": [
    "a2.size"
   ]
  },
  {
   "cell_type": "code",
   "execution_count": 12,
   "id": "1c021d28",
   "metadata": {},
   "outputs": [
    {
     "data": {
      "text/plain": [
       "(numpy.ndarray, numpy.ndarray)"
      ]
     },
     "execution_count": 12,
     "metadata": {},
     "output_type": "execute_result"
    }
   ],
   "source": [
    "type(al),type(a2)"
   ]
  },
  {
   "cell_type": "code",
   "execution_count": 13,
   "id": "835ba75f",
   "metadata": {},
   "outputs": [],
   "source": [
    "# create a DataFrame from a numpy array\n",
    "import pandas as pd\n",
    "df = pd.DataFrame(a2)"
   ]
  },
  {
   "cell_type": "code",
   "execution_count": 14,
   "id": "3fe38d8b",
   "metadata": {},
   "outputs": [
    {
     "data": {
      "text/html": [
       "<div>\n",
       "<style scoped>\n",
       "    .dataframe tbody tr th:only-of-type {\n",
       "        vertical-align: middle;\n",
       "    }\n",
       "\n",
       "    .dataframe tbody tr th {\n",
       "        vertical-align: top;\n",
       "    }\n",
       "\n",
       "    .dataframe thead th {\n",
       "        text-align: right;\n",
       "    }\n",
       "</style>\n",
       "<table border=\"1\" class=\"dataframe\">\n",
       "  <thead>\n",
       "    <tr style=\"text-align: right;\">\n",
       "      <th></th>\n",
       "      <th>0</th>\n",
       "      <th>1</th>\n",
       "      <th>2</th>\n",
       "    </tr>\n",
       "  </thead>\n",
       "  <tbody>\n",
       "    <tr>\n",
       "      <th>0</th>\n",
       "      <td>1</td>\n",
       "      <td>2</td>\n",
       "      <td>3</td>\n",
       "    </tr>\n",
       "    <tr>\n",
       "      <th>1</th>\n",
       "      <td>12</td>\n",
       "      <td>32</td>\n",
       "      <td>34</td>\n",
       "    </tr>\n",
       "  </tbody>\n",
       "</table>\n",
       "</div>"
      ],
      "text/plain": [
       "    0   1   2\n",
       "0   1   2   3\n",
       "1  12  32  34"
      ]
     },
     "execution_count": 14,
     "metadata": {},
     "output_type": "execute_result"
    }
   ],
   "source": [
    "df"
   ]
  },
  {
   "cell_type": "code",
   "execution_count": 15,
   "id": "27be8ed6",
   "metadata": {},
   "outputs": [
    {
     "data": {
      "text/plain": [
       "pandas.core.frame.DataFrame"
      ]
     },
     "execution_count": 15,
     "metadata": {},
     "output_type": "execute_result"
    }
   ],
   "source": [
    "type(df)"
   ]
  },
  {
   "cell_type": "markdown",
   "id": "39b46158",
   "metadata": {},
   "source": [
    "## creating array"
   ]
  },
  {
   "cell_type": "code",
   "execution_count": 16,
   "id": "bbd149e9",
   "metadata": {},
   "outputs": [
    {
     "data": {
      "text/plain": [
       "array([1, 2, 3])"
      ]
     },
     "execution_count": 16,
     "metadata": {},
     "output_type": "execute_result"
    }
   ],
   "source": [
    "arr = np.array([1,2,3])\n",
    "arr"
   ]
  },
  {
   "cell_type": "markdown",
   "id": "344f00a6",
   "metadata": {},
   "source": [
    "# NP.ONES\n",
    "\n",
    "* Return a new array of given shape and type, filled with ones"
   ]
  },
  {
   "cell_type": "code",
   "execution_count": 17,
   "id": "dc495b39",
   "metadata": {},
   "outputs": [
    {
     "data": {
      "text/plain": [
       "array([['1', '1', '1', '1', '1'],\n",
       "       ['1', '1', '1', '1', '1'],\n",
       "       ['1', '1', '1', '1', '1'],\n",
       "       ['1', '1', '1', '1', '1'],\n",
       "       ['1', '1', '1', '1', '1']], dtype='<U1')"
      ]
     },
     "execution_count": 17,
     "metadata": {},
     "output_type": "execute_result"
    }
   ],
   "source": [
    "ones =np.ones((5,5) ,dtype=str)\n",
    "ones"
   ]
  },
  {
   "cell_type": "code",
   "execution_count": 18,
   "id": "901ad068",
   "metadata": {},
   "outputs": [
    {
     "data": {
      "text/plain": [
       "dtype('<U1')"
      ]
     },
     "execution_count": 18,
     "metadata": {},
     "output_type": "execute_result"
    }
   ],
   "source": [
    "ones.dtype"
   ]
  },
  {
   "cell_type": "markdown",
   "id": "a6771197",
   "metadata": {},
   "source": [
    "# NP.ZEROS\n",
    "\n",
    "* Return a new array of given shape and type, filled with zeros"
   ]
  },
  {
   "cell_type": "code",
   "execution_count": 19,
   "id": "3bb5fff5",
   "metadata": {},
   "outputs": [
    {
     "data": {
      "text/plain": [
       "array([['', '', '', '', ''],\n",
       "       ['', '', '', '', ''],\n",
       "       ['', '', '', '', ''],\n",
       "       ['', '', '', '', ''],\n",
       "       ['', '', '', '', '']], dtype='<U1')"
      ]
     },
     "execution_count": 19,
     "metadata": {},
     "output_type": "execute_result"
    }
   ],
   "source": [
    "zeros = np.zeros((5,5),dtype=str)\n",
    "zeros"
   ]
  },
  {
   "cell_type": "code",
   "execution_count": 20,
   "id": "70e044a4",
   "metadata": {},
   "outputs": [
    {
     "data": {
      "text/plain": [
       "dtype('<U1')"
      ]
     },
     "execution_count": 20,
     "metadata": {},
     "output_type": "execute_result"
    }
   ],
   "source": [
    "zeros.dtype"
   ]
  },
  {
   "cell_type": "markdown",
   "id": "f543c57c",
   "metadata": {},
   "source": [
    "# NP.ARANGE\n",
    "\n",
    "* Return evenly spaced values within a given interval"
   ]
  },
  {
   "cell_type": "code",
   "execution_count": 21,
   "id": "6ad3c0a4",
   "metadata": {},
   "outputs": [
    {
     "data": {
      "text/plain": [
       "array([1, 2, 3, 4, 5, 6, 7, 8, 9])"
      ]
     },
     "execution_count": 21,
     "metadata": {},
     "output_type": "execute_result"
    }
   ],
   "source": [
    "rangeArray =np.arange(1,10,1)\n",
    "rangeArray"
   ]
  },
  {
   "cell_type": "code",
   "execution_count": 22,
   "id": "3fa863ce",
   "metadata": {},
   "outputs": [
    {
     "data": {
      "text/plain": [
       "array([[ 1,  2,  3,  4,  5,  6,  7,  8,  9],\n",
       "       [ 2,  4,  6,  8, 10, 12, 14, 16, 18]])"
      ]
     },
     "execution_count": 22,
     "metadata": {},
     "output_type": "execute_result"
    }
   ],
   "source": [
    "twoDeArray =np.array([rangeArray,rangeArray*2])\n",
    "twoDeArray"
   ]
  },
  {
   "cell_type": "code",
   "execution_count": 23,
   "id": "96d6fe2b",
   "metadata": {},
   "outputs": [
    {
     "data": {
      "text/plain": [
       "array([[ 1,  2,  3,  4,  5,  6,  7,  8,  9],\n",
       "       [ 2,  4,  6,  8, 10, 12, 14, 16, 18],\n",
       "       [ 3,  6,  9, 12, 15, 18, 21, 24, 27]])"
      ]
     },
     "execution_count": 23,
     "metadata": {},
     "output_type": "execute_result"
    }
   ],
   "source": [
    "threeDeArray = np.array([rangeArray,rangeArray*2,rangeArray*3])\n",
    "threeDeArray"
   ]
  },
  {
   "cell_type": "markdown",
   "id": "a25c2a00",
   "metadata": {},
   "source": [
    "## NP.RANDOM.RANDINT\n",
    "\n",
    "* Return random integers from `low` (inclusive) to `high` (exclusive)"
   ]
  },
  {
   "cell_type": "code",
   "execution_count": 24,
   "id": "7baf1c4c",
   "metadata": {},
   "outputs": [
    {
     "data": {
      "text/plain": [
       "array([[[[1, 4, 0, 4, 8],\n",
       "         [8, 2, 9, 4, 1],\n",
       "         [8, 3, 2, 4, 5],\n",
       "         [1, 2, 6, 8, 4]],\n",
       "\n",
       "        [[8, 5, 4, 3, 2],\n",
       "         [1, 2, 2, 0, 4],\n",
       "         [7, 5, 4, 0, 8],\n",
       "         [8, 2, 3, 2, 4]],\n",
       "\n",
       "        [[6, 5, 0, 4, 4],\n",
       "         [7, 4, 0, 1, 2],\n",
       "         [7, 4, 4, 0, 0],\n",
       "         [7, 5, 9, 0, 7]]],\n",
       "\n",
       "\n",
       "       [[[6, 3, 6, 8, 3],\n",
       "         [6, 5, 5, 1, 4],\n",
       "         [1, 9, 8, 0, 6],\n",
       "         [3, 2, 1, 4, 3]],\n",
       "\n",
       "        [[9, 6, 5, 6, 2],\n",
       "         [5, 7, 9, 4, 2],\n",
       "         [0, 5, 5, 4, 1],\n",
       "         [5, 0, 1, 9, 8]],\n",
       "\n",
       "        [[0, 6, 9, 9, 2],\n",
       "         [3, 4, 8, 0, 4],\n",
       "         [7, 6, 2, 4, 3],\n",
       "         [5, 6, 5, 9, 7]]]])"
      ]
     },
     "execution_count": 24,
     "metadata": {},
     "output_type": "execute_result"
    }
   ],
   "source": [
    "randomArray =np.random.randint(0,10,size=(2,3,4,5),dtype=int)\n",
    "randomArray"
   ]
  },
  {
   "cell_type": "code",
   "execution_count": 25,
   "id": "87de764f",
   "metadata": {},
   "outputs": [
    {
     "data": {
      "text/plain": [
       "120"
      ]
     },
     "execution_count": 25,
     "metadata": {},
     "output_type": "execute_result"
    }
   ],
   "source": [
    "randomArray.size"
   ]
  },
  {
   "cell_type": "code",
   "execution_count": 26,
   "id": "92951ef4",
   "metadata": {},
   "outputs": [
    {
     "data": {
      "text/plain": [
       "(2, 3, 4, 5)"
      ]
     },
     "execution_count": 26,
     "metadata": {},
     "output_type": "execute_result"
    }
   ],
   "source": [
    "randomArray.shape"
   ]
  },
  {
   "cell_type": "code",
   "execution_count": 27,
   "id": "7639b4de",
   "metadata": {},
   "outputs": [
    {
     "data": {
      "text/plain": [
       "dtype('int32')"
      ]
     },
     "execution_count": 27,
     "metadata": {},
     "output_type": "execute_result"
    }
   ],
   "source": [
    "randomArray.dtype"
   ]
  },
  {
   "cell_type": "markdown",
   "id": "fb9058f9",
   "metadata": {},
   "source": [
    "## NP.RANDOM.RANDOM\n",
    "\n",
    "* Return random floats in the half-open interval [0.0, 1.0)"
   ]
  },
  {
   "cell_type": "code",
   "execution_count": 28,
   "id": "d1bcf058",
   "metadata": {},
   "outputs": [
    {
     "data": {
      "text/plain": [
       "array([[0.86482812, 0.24906281],\n",
       "       [0.51829511, 0.23987053]])"
      ]
     },
     "execution_count": 28,
     "metadata": {},
     "output_type": "execute_result"
    }
   ],
   "source": [
    "np.random.random((2,2))"
   ]
  },
  {
   "cell_type": "code",
   "execution_count": 29,
   "id": "5fb26168",
   "metadata": {},
   "outputs": [
    {
     "data": {
      "text/plain": [
       "array([[9, 5, 8, 8],\n",
       "       [8, 6, 8, 7],\n",
       "       [9, 5, 5, 9],\n",
       "       [7, 6, 5, 6],\n",
       "       [6, 5, 6, 9]])"
      ]
     },
     "execution_count": 29,
     "metadata": {},
     "output_type": "execute_result"
    }
   ],
   "source": [
    "#Pseudo-random number\n",
    "np.random.seed(seed=0)\n",
    "rr=np.random.randint(5,10,size=(5,4))\n",
    "rr"
   ]
  },
  {
   "cell_type": "markdown",
   "id": "4971cde3",
   "metadata": {},
   "source": [
    "# Viewing arrays and Matrices"
   ]
  },
  {
   "cell_type": "markdown",
   "id": "0a2eac9d",
   "metadata": {},
   "source": [
    "### NP.UNIQUE\n",
    "\n",
    "* Returns the sorted unique elements of an array"
   ]
  },
  {
   "cell_type": "code",
   "execution_count": 30,
   "id": "54f19112",
   "metadata": {},
   "outputs": [
    {
     "data": {
      "text/plain": [
       "array([5, 6, 7, 8, 9])"
      ]
     },
     "execution_count": 30,
     "metadata": {},
     "output_type": "execute_result"
    }
   ],
   "source": [
    "np.unique(rr)"
   ]
  },
  {
   "cell_type": "code",
   "execution_count": 31,
   "id": "d1926a56",
   "metadata": {},
   "outputs": [
    {
     "data": {
      "text/plain": [
       "array([1, 2, 3])"
      ]
     },
     "execution_count": 31,
     "metadata": {},
     "output_type": "execute_result"
    }
   ],
   "source": [
    "al"
   ]
  },
  {
   "cell_type": "code",
   "execution_count": 32,
   "id": "15be2b7b",
   "metadata": {},
   "outputs": [
    {
     "data": {
      "text/plain": [
       "(1, 3)"
      ]
     },
     "execution_count": 32,
     "metadata": {},
     "output_type": "execute_result"
    }
   ],
   "source": [
    "al[0],al[2]"
   ]
  },
  {
   "cell_type": "code",
   "execution_count": 33,
   "id": "bb87bbfa",
   "metadata": {},
   "outputs": [
    {
     "data": {
      "text/plain": [
       "array([[ 1,  2,  3,  4,  5,  6,  7,  8,  9],\n",
       "       [ 2,  4,  6,  8, 10, 12, 14, 16, 18],\n",
       "       [ 3,  6,  9, 12, 15, 18, 21, 24, 27]])"
      ]
     },
     "execution_count": 33,
     "metadata": {},
     "output_type": "execute_result"
    }
   ],
   "source": [
    "threeDeArray"
   ]
  },
  {
   "cell_type": "code",
   "execution_count": 34,
   "id": "b1e7f482",
   "metadata": {},
   "outputs": [
    {
     "data": {
      "text/plain": [
       "4"
      ]
     },
     "execution_count": 34,
     "metadata": {},
     "output_type": "execute_result"
    }
   ],
   "source": [
    "threeDeArray[0][3]"
   ]
  },
  {
   "cell_type": "code",
   "execution_count": 35,
   "id": "96442ec8",
   "metadata": {},
   "outputs": [
    {
     "data": {
      "text/plain": [
       "array([1, 2, 3, 4, 5, 6, 7, 8, 9])"
      ]
     },
     "execution_count": 35,
     "metadata": {},
     "output_type": "execute_result"
    }
   ],
   "source": [
    "threeDeArray[0]"
   ]
  },
  {
   "cell_type": "code",
   "execution_count": 36,
   "id": "d31b683a",
   "metadata": {},
   "outputs": [
    {
     "data": {
      "text/plain": [
       "array([[ 1,  2,  3,  4,  5,  6,  7,  8,  9],\n",
       "       [ 2,  4,  6,  8, 10, 12, 14, 16, 18]])"
      ]
     },
     "execution_count": 36,
     "metadata": {},
     "output_type": "execute_result"
    }
   ],
   "source": [
    "threeDeArray[:2]"
   ]
  },
  {
   "cell_type": "code",
   "execution_count": 37,
   "id": "228ad473",
   "metadata": {},
   "outputs": [
    {
     "data": {
      "text/plain": [
       "array([[1, 2],\n",
       "       [2, 4]])"
      ]
     },
     "execution_count": 37,
     "metadata": {},
     "output_type": "execute_result"
    }
   ],
   "source": [
    "threeDeArray[:2,:2]"
   ]
  },
  {
   "cell_type": "code",
   "execution_count": 38,
   "id": "8d01090c",
   "metadata": {},
   "outputs": [
    {
     "data": {
      "text/plain": [
       "array([[1, 2, 3],\n",
       "       [2, 4, 6]])"
      ]
     },
     "execution_count": 38,
     "metadata": {},
     "output_type": "execute_result"
    }
   ],
   "source": [
    "threeDeArray[:2,:3]"
   ]
  },
  {
   "cell_type": "code",
   "execution_count": 39,
   "id": "df9d6932",
   "metadata": {},
   "outputs": [
    {
     "data": {
      "text/plain": [
       "array([[[[1, 4, 0, 4, 8],\n",
       "         [8, 2, 9, 4, 1],\n",
       "         [8, 3, 2, 4, 5],\n",
       "         [1, 2, 6, 8, 4]],\n",
       "\n",
       "        [[8, 5, 4, 3, 2],\n",
       "         [1, 2, 2, 0, 4],\n",
       "         [7, 5, 4, 0, 8],\n",
       "         [8, 2, 3, 2, 4]],\n",
       "\n",
       "        [[6, 5, 0, 4, 4],\n",
       "         [7, 4, 0, 1, 2],\n",
       "         [7, 4, 4, 0, 0],\n",
       "         [7, 5, 9, 0, 7]]],\n",
       "\n",
       "\n",
       "       [[[6, 3, 6, 8, 3],\n",
       "         [6, 5, 5, 1, 4],\n",
       "         [1, 9, 8, 0, 6],\n",
       "         [3, 2, 1, 4, 3]],\n",
       "\n",
       "        [[9, 6, 5, 6, 2],\n",
       "         [5, 7, 9, 4, 2],\n",
       "         [0, 5, 5, 4, 1],\n",
       "         [5, 0, 1, 9, 8]],\n",
       "\n",
       "        [[0, 6, 9, 9, 2],\n",
       "         [3, 4, 8, 0, 4],\n",
       "         [7, 6, 2, 4, 3],\n",
       "         [5, 6, 5, 9, 7]]]])"
      ]
     },
     "execution_count": 39,
     "metadata": {},
     "output_type": "execute_result"
    }
   ],
   "source": [
    "randomArray"
   ]
  },
  {
   "cell_type": "code",
   "execution_count": 40,
   "id": "dd3b513c",
   "metadata": {},
   "outputs": [
    {
     "data": {
      "text/plain": [
       "array([[[[1, 4],\n",
       "         [8, 2],\n",
       "         [8, 3],\n",
       "         [1, 2]],\n",
       "\n",
       "        [[8, 5],\n",
       "         [1, 2],\n",
       "         [7, 5],\n",
       "         [8, 2]],\n",
       "\n",
       "        [[6, 5],\n",
       "         [7, 4],\n",
       "         [7, 4],\n",
       "         [7, 5]]],\n",
       "\n",
       "\n",
       "       [[[6, 3],\n",
       "         [6, 5],\n",
       "         [1, 9],\n",
       "         [3, 2]],\n",
       "\n",
       "        [[9, 6],\n",
       "         [5, 7],\n",
       "         [0, 5],\n",
       "         [5, 0]],\n",
       "\n",
       "        [[0, 6],\n",
       "         [3, 4],\n",
       "         [7, 6],\n",
       "         [5, 6]]]])"
      ]
     },
     "execution_count": 40,
     "metadata": {},
     "output_type": "execute_result"
    }
   ],
   "source": [
    "randomArray[:,:,:,:2]"
   ]
  },
  {
   "cell_type": "code",
   "execution_count": 41,
   "id": "52504369",
   "metadata": {},
   "outputs": [
    {
     "data": {
      "text/plain": [
       "array([[[[1, 4],\n",
       "         [8, 2]],\n",
       "\n",
       "        [[8, 5],\n",
       "         [1, 2]],\n",
       "\n",
       "        [[6, 5],\n",
       "         [7, 4]]],\n",
       "\n",
       "\n",
       "       [[[6, 3],\n",
       "         [6, 5]],\n",
       "\n",
       "        [[9, 6],\n",
       "         [5, 7]],\n",
       "\n",
       "        [[0, 6],\n",
       "         [3, 4]]]])"
      ]
     },
     "execution_count": 41,
     "metadata": {},
     "output_type": "execute_result"
    }
   ],
   "source": [
    "randomArray[:,:,:2,:2]\n"
   ]
  },
  {
   "cell_type": "code",
   "execution_count": 42,
   "id": "693dafbd",
   "metadata": {},
   "outputs": [
    {
     "data": {
      "text/plain": [
       "array([[[[1, 4],\n",
       "         [8, 2]],\n",
       "\n",
       "        [[8, 5],\n",
       "         [1, 2]]],\n",
       "\n",
       "\n",
       "       [[[6, 3],\n",
       "         [6, 5]],\n",
       "\n",
       "        [[9, 6],\n",
       "         [5, 7]]]])"
      ]
     },
     "execution_count": 42,
     "metadata": {},
     "output_type": "execute_result"
    }
   ],
   "source": [
    "randomArray[:,:2,:2,:2]"
   ]
  },
  {
   "cell_type": "code",
   "execution_count": 43,
   "id": "ee5a870a",
   "metadata": {},
   "outputs": [
    {
     "data": {
      "text/plain": [
       "array([[[[1, 4],\n",
       "         [8, 2]],\n",
       "\n",
       "        [[8, 5],\n",
       "         [1, 2]]]])"
      ]
     },
     "execution_count": 43,
     "metadata": {},
     "output_type": "execute_result"
    }
   ],
   "source": [
    "randomArray[:1,:2,:2,:2]"
   ]
  },
  {
   "cell_type": "markdown",
   "id": "e973caec",
   "metadata": {},
   "source": [
    "## Manipulation &Comparing arrays"
   ]
  },
  {
   "cell_type": "markdown",
   "id": "5870bf0f",
   "metadata": {},
   "source": [
    "### Arithmetic"
   ]
  },
  {
   "cell_type": "code",
   "execution_count": 44,
   "id": "dbe3e672",
   "metadata": {},
   "outputs": [
    {
     "data": {
      "text/plain": [
       "array([1, 2, 3])"
      ]
     },
     "execution_count": 44,
     "metadata": {},
     "output_type": "execute_result"
    }
   ],
   "source": [
    "al"
   ]
  },
  {
   "cell_type": "code",
   "execution_count": 45,
   "id": "d70d474f",
   "metadata": {},
   "outputs": [
    {
     "data": {
      "text/plain": [
       "array([1., 1., 1.])"
      ]
     },
     "execution_count": 45,
     "metadata": {},
     "output_type": "execute_result"
    }
   ],
   "source": [
    "ones=np.ones(3)\n",
    "ones"
   ]
  },
  {
   "cell_type": "code",
   "execution_count": 46,
   "id": "e8266d03",
   "metadata": {},
   "outputs": [
    {
     "data": {
      "text/plain": [
       "array([2., 3., 4.])"
      ]
     },
     "execution_count": 46,
     "metadata": {},
     "output_type": "execute_result"
    }
   ],
   "source": [
    "al+ones"
   ]
  },
  {
   "cell_type": "code",
   "execution_count": 47,
   "id": "e4d487fb",
   "metadata": {},
   "outputs": [
    {
     "data": {
      "text/plain": [
       "array([1., 2., 3.])"
      ]
     },
     "execution_count": 47,
     "metadata": {},
     "output_type": "execute_result"
    }
   ],
   "source": [
    "al*ones"
   ]
  },
  {
   "cell_type": "code",
   "execution_count": 48,
   "id": "e9505541",
   "metadata": {},
   "outputs": [
    {
     "data": {
      "text/plain": [
       "array([0., 1., 2.])"
      ]
     },
     "execution_count": 48,
     "metadata": {},
     "output_type": "execute_result"
    }
   ],
   "source": [
    "al-ones"
   ]
  },
  {
   "cell_type": "markdown",
   "id": "25cd9e62",
   "metadata": {},
   "source": [
    "### Aggregation"
   ]
  },
  {
   "cell_type": "code",
   "execution_count": 49,
   "id": "1001ee13",
   "metadata": {},
   "outputs": [
    {
     "data": {
      "text/plain": [
       "array([1, 2, 3])"
      ]
     },
     "execution_count": 49,
     "metadata": {},
     "output_type": "execute_result"
    }
   ],
   "source": [
    "al"
   ]
  },
  {
   "cell_type": "code",
   "execution_count": 50,
   "id": "3ccced82",
   "metadata": {},
   "outputs": [
    {
     "data": {
      "text/plain": [
       "6"
      ]
     },
     "execution_count": 50,
     "metadata": {},
     "output_type": "execute_result"
    }
   ],
   "source": [
    "np.sum(al)"
   ]
  },
  {
   "cell_type": "markdown",
   "id": "f01dbf9a",
   "metadata": {},
   "source": [
    "### Use Python method (`sum()`) on python datatypes and use Numpy method on numpy arrays(`np.sum()`)."
   ]
  },
  {
   "cell_type": "code",
   "execution_count": 51,
   "id": "e8116d80",
   "metadata": {},
   "outputs": [
    {
     "data": {
      "text/plain": [
       "array([0.0202184 , 0.83261985, 0.77815675, 0.87001215, 0.97861834,\n",
       "       0.79915856, 0.46147936, 0.78052918, 0.11827443, 0.63992102])"
      ]
     },
     "execution_count": 51,
     "metadata": {},
     "output_type": "execute_result"
    }
   ],
   "source": [
    "# create a massive Numpy array\n",
    "massiveArray =np.random.random(1000)\n",
    "massiveArray[:10]"
   ]
  },
  {
   "cell_type": "code",
   "execution_count": 52,
   "id": "f2f61a40",
   "metadata": {},
   "outputs": [
    {
     "name": "stdout",
     "output_type": "stream",
     "text": [
      "364 µs ± 25.8 µs per loop (mean ± std. dev. of 7 runs, 1,000 loops each)\n"
     ]
    }
   ],
   "source": [
    "%timeit sum(massiveArray) # python sum"
   ]
  },
  {
   "cell_type": "code",
   "execution_count": 53,
   "id": "abd8b8c8",
   "metadata": {},
   "outputs": [
    {
     "name": "stdout",
     "output_type": "stream",
     "text": [
      "20.5 µs ± 1.41 µs per loop (mean ± std. dev. of 7 runs, 10,000 loops each)\n"
     ]
    }
   ],
   "source": [
    "%timeit np.sum(massiveArray) #numpy sum"
   ]
  },
  {
   "cell_type": "code",
   "execution_count": 54,
   "id": "4dda4e3f",
   "metadata": {},
   "outputs": [
    {
     "data": {
      "text/plain": [
       "0.4930979202769521"
      ]
     },
     "execution_count": 54,
     "metadata": {},
     "output_type": "execute_result"
    }
   ],
   "source": [
    "np.mean(massiveArray)"
   ]
  },
  {
   "cell_type": "code",
   "execution_count": 55,
   "id": "b66a4126",
   "metadata": {},
   "outputs": [
    {
     "data": {
      "text/plain": [
       "0.9998085781169653"
      ]
     },
     "execution_count": 55,
     "metadata": {},
     "output_type": "execute_result"
    }
   ],
   "source": [
    "np.max(massiveArray)"
   ]
  },
  {
   "cell_type": "code",
   "execution_count": 56,
   "id": "11aed967",
   "metadata": {},
   "outputs": [
    {
     "data": {
      "text/plain": [
       "0.0005459648969956543"
      ]
     },
     "execution_count": 56,
     "metadata": {},
     "output_type": "execute_result"
    }
   ],
   "source": [
    "np.min(massiveArray)"
   ]
  },
  {
   "cell_type": "code",
   "execution_count": 57,
   "id": "2536aa46",
   "metadata": {},
   "outputs": [
    {
     "data": {
      "text/plain": [
       "0.29139085073090576"
      ]
     },
     "execution_count": 57,
     "metadata": {},
     "output_type": "execute_result"
    }
   ],
   "source": [
    "np.std(massiveArray)"
   ]
  },
  {
   "cell_type": "code",
   "execution_count": 58,
   "id": "7303dfed",
   "metadata": {},
   "outputs": [
    {
     "data": {
      "text/plain": [
       "0.084908627889681"
      ]
     },
     "execution_count": 58,
     "metadata": {},
     "output_type": "execute_result"
    }
   ],
   "source": [
    "# Variance =measure of yhe average degree to which each number is different to the mean \n",
    "# higher variance = wider range of numbers\n",
    "#lower variance =lower range of numbers\n",
    "\n",
    "np.var(massiveArray)"
   ]
  },
  {
   "cell_type": "code",
   "execution_count": 59,
   "id": "2e9d0f8f",
   "metadata": {},
   "outputs": [],
   "source": [
    "# Demo of std and var\n",
    "highVarArray =np.array([1,100,200,300,4000,5000])\n",
    "lowVarArray=np.array([2,4,6,8,10])"
   ]
  },
  {
   "cell_type": "code",
   "execution_count": 60,
   "id": "037e402c",
   "metadata": {},
   "outputs": [
    {
     "data": {
      "text/plain": [
       "(4296133.472222221, 8.0)"
      ]
     },
     "execution_count": 60,
     "metadata": {},
     "output_type": "execute_result"
    }
   ],
   "source": [
    "np.var(highVarArray),np.var(lowVarArray)"
   ]
  },
  {
   "cell_type": "code",
   "execution_count": 61,
   "id": "d55aa857",
   "metadata": {},
   "outputs": [
    {
     "data": {
      "text/plain": [
       "(2072.711623024829, 2.8284271247461903)"
      ]
     },
     "execution_count": 61,
     "metadata": {},
     "output_type": "execute_result"
    }
   ],
   "source": [
    "np.std(highVarArray),np.std(lowVarArray)"
   ]
  },
  {
   "cell_type": "code",
   "execution_count": 62,
   "id": "41a59514",
   "metadata": {},
   "outputs": [
    {
     "data": {
      "text/plain": [
       "(1600.1666666666667, 6.0)"
      ]
     },
     "execution_count": 62,
     "metadata": {},
     "output_type": "execute_result"
    }
   ],
   "source": [
    "np.mean(highVarArray),np.mean(lowVarArray)"
   ]
  },
  {
   "cell_type": "code",
   "execution_count": 63,
   "id": "f0207421",
   "metadata": {},
   "outputs": [
    {
     "name": "stdout",
     "output_type": "stream",
     "text": [
      "Using matplotlib backend: <object object at 0x0000014620FBD710>\n"
     ]
    },
    {
     "data": {
      "text/plain": [
       "(array([4., 0., 0., 0., 0., 0., 0., 1., 0., 1.]),\n",
       " array([1.0000e+00, 5.0090e+02, 1.0008e+03, 1.5007e+03, 2.0006e+03,\n",
       "        2.5005e+03, 3.0004e+03, 3.5003e+03, 4.0002e+03, 4.5001e+03,\n",
       "        5.0000e+03]),\n",
       " <BarContainer object of 10 artists>)"
      ]
     },
     "execution_count": 63,
     "metadata": {},
     "output_type": "execute_result"
    }
   ],
   "source": [
    "%matplotlib\n",
    "from matplotlib import pyplot as plt\n",
    "plt.hist(highVarArray)\n"
   ]
  },
  {
   "cell_type": "code",
   "execution_count": 64,
   "id": "9e2989f3",
   "metadata": {},
   "outputs": [
    {
     "data": {
      "text/plain": [
       "(array([1., 0., 1., 0., 0., 1., 0., 1., 0., 1.]),\n",
       " array([ 2. ,  2.8,  3.6,  4.4,  5.2,  6. ,  6.8,  7.6,  8.4,  9.2, 10. ]),\n",
       " <BarContainer object of 10 artists>)"
      ]
     },
     "execution_count": 64,
     "metadata": {},
     "output_type": "execute_result"
    }
   ],
   "source": [
    "plt.hist(lowVarArray)"
   ]
  },
  {
   "cell_type": "markdown",
   "id": "4d4a1f02",
   "metadata": {},
   "source": [
    "### Reshaping & Transposing"
   ]
  },
  {
   "cell_type": "code",
   "execution_count": 65,
   "id": "d211d012",
   "metadata": {},
   "outputs": [
    {
     "data": {
      "text/plain": [
       "array([[2, 3, 4, 5, 6, 7, 8, 9],\n",
       "       [4, 5, 6, 7, 1, 2, 3, 4]])"
      ]
     },
     "execution_count": 65,
     "metadata": {},
     "output_type": "execute_result"
    }
   ],
   "source": [
    "a2=np.array([[2,3,4,5,6,7,8,9],\n",
    "            [4,5,6,7,1,2,3,4]])\n",
    "a2"
   ]
  },
  {
   "cell_type": "code",
   "execution_count": 66,
   "id": "a4495d90",
   "metadata": {},
   "outputs": [
    {
     "data": {
      "text/plain": [
       "array([[ 1,  2,  3,  4,  5,  6,  7,  8,  9],\n",
       "       [ 2,  4,  6,  8, 10, 12, 14, 16, 18]])"
      ]
     },
     "execution_count": 66,
     "metadata": {},
     "output_type": "execute_result"
    }
   ],
   "source": [
    "twoDeArray"
   ]
  },
  {
   "cell_type": "code",
   "execution_count": 67,
   "id": "d46a6735",
   "metadata": {},
   "outputs": [
    {
     "data": {
      "text/plain": [
       "(2, 9)"
      ]
     },
     "execution_count": 67,
     "metadata": {},
     "output_type": "execute_result"
    }
   ],
   "source": [
    "twoDeArray.shape"
   ]
  },
  {
   "cell_type": "code",
   "execution_count": 68,
   "id": "8bb7ca96",
   "metadata": {},
   "outputs": [
    {
     "data": {
      "text/plain": [
       "array([[1],\n",
       "       [2],\n",
       "       [3]])"
      ]
     },
     "execution_count": 68,
     "metadata": {},
     "output_type": "execute_result"
    }
   ],
   "source": [
    "al.reshape(3,1)"
   ]
  },
  {
   "cell_type": "code",
   "execution_count": 69,
   "id": "68b2ca25",
   "metadata": {},
   "outputs": [
    {
     "data": {
      "text/plain": [
       "array([[ 1,  2,  3,  4,  5,  6,  7,  8,  9],\n",
       "       [ 2,  4,  6,  8, 10, 12, 14, 16, 18],\n",
       "       [ 3,  6,  9, 12, 15, 18, 21, 24, 27]])"
      ]
     },
     "execution_count": 69,
     "metadata": {},
     "output_type": "execute_result"
    }
   ],
   "source": [
    "threeDeArray\n"
   ]
  },
  {
   "cell_type": "code",
   "execution_count": 70,
   "id": "6fde3564",
   "metadata": {},
   "outputs": [
    {
     "data": {
      "text/plain": [
       "array([[ 1,  2,  3,  4,  5,  6,  7,  8,  9],\n",
       "       [ 4,  8, 12, 16, 20, 24, 28, 32, 36],\n",
       "       [ 9, 18, 27, 36, 45, 54, 63, 72, 81]])"
      ]
     },
     "execution_count": 70,
     "metadata": {},
     "output_type": "execute_result"
    }
   ],
   "source": [
    "al.reshape(3,1)*threeDeArray"
   ]
  },
  {
   "cell_type": "code",
   "execution_count": 71,
   "id": "e7a415db",
   "metadata": {},
   "outputs": [
    {
     "data": {
      "text/plain": [
       "array([[ 1,  2,  3,  4,  5,  6,  7,  8,  9],\n",
       "       [ 2,  4,  6,  8, 10, 12, 14, 16, 18],\n",
       "       [ 3,  6,  9, 12, 15, 18, 21, 24, 27]])"
      ]
     },
     "execution_count": 71,
     "metadata": {},
     "output_type": "execute_result"
    }
   ],
   "source": [
    "threeDeArray"
   ]
  },
  {
   "cell_type": "code",
   "execution_count": 72,
   "id": "f1eeed8d",
   "metadata": {},
   "outputs": [
    {
     "data": {
      "text/plain": [
       "array([[ 1,  2,  3],\n",
       "       [ 2,  4,  6],\n",
       "       [ 3,  6,  9],\n",
       "       [ 4,  8, 12],\n",
       "       [ 5, 10, 15],\n",
       "       [ 6, 12, 18],\n",
       "       [ 7, 14, 21],\n",
       "       [ 8, 16, 24],\n",
       "       [ 9, 18, 27]])"
      ]
     },
     "execution_count": 72,
     "metadata": {},
     "output_type": "execute_result"
    }
   ],
   "source": [
    "threeDeArray.T"
   ]
  },
  {
   "cell_type": "markdown",
   "id": "e5cd1d9c",
   "metadata": {},
   "source": [
    "## Dot product"
   ]
  },
  {
   "cell_type": "code",
   "execution_count": 73,
   "id": "41f28b9a",
   "metadata": {},
   "outputs": [
    {
     "data": {
      "text/plain": [
       "array([[5, 0, 3],\n",
       "       [3, 7, 9],\n",
       "       [3, 5, 2],\n",
       "       [4, 7, 6],\n",
       "       [8, 8, 1]])"
      ]
     },
     "execution_count": 73,
     "metadata": {},
     "output_type": "execute_result"
    }
   ],
   "source": [
    "np.random.seed(0)\n",
    "mat1 =np.random.randint(10,size=(5,3))\n",
    "mat2 =np.random.randint(10,size=(5,3))\n",
    "\n",
    "mat1"
   ]
  },
  {
   "cell_type": "code",
   "execution_count": 74,
   "id": "1f849982",
   "metadata": {},
   "outputs": [
    {
     "data": {
      "text/plain": [
       "array([[6, 7, 7],\n",
       "       [8, 1, 5],\n",
       "       [9, 8, 9],\n",
       "       [4, 3, 0],\n",
       "       [3, 5, 0]])"
      ]
     },
     "execution_count": 74,
     "metadata": {},
     "output_type": "execute_result"
    }
   ],
   "source": [
    "mat2"
   ]
  },
  {
   "cell_type": "code",
   "execution_count": 75,
   "id": "c0655aaf",
   "metadata": {},
   "outputs": [
    {
     "data": {
      "text/plain": [
       "array([[30,  0, 21],\n",
       "       [24,  7, 45],\n",
       "       [27, 40, 18],\n",
       "       [16, 21,  0],\n",
       "       [24, 40,  0]])"
      ]
     },
     "execution_count": 75,
     "metadata": {},
     "output_type": "execute_result"
    }
   ],
   "source": [
    "mat1 *mat2"
   ]
  },
  {
   "cell_type": "code",
   "execution_count": 76,
   "id": "26616aad",
   "metadata": {},
   "outputs": [
    {
     "data": {
      "text/plain": [
       "array([[121, 114,  77],\n",
       "       [153, 108,  80],\n",
       "       [135,  69,  84]])"
      ]
     },
     "execution_count": 76,
     "metadata": {},
     "output_type": "execute_result"
    }
   ],
   "source": [
    "np.dot(mat1.T,mat2)"
   ]
  },
  {
   "cell_type": "markdown",
   "id": "02f43eaf",
   "metadata": {},
   "source": [
    "## Dot product example"
   ]
  },
  {
   "cell_type": "code",
   "execution_count": 77,
   "id": "b499a114",
   "metadata": {},
   "outputs": [
    {
     "data": {
      "text/plain": [
       "array([[12, 15,  0],\n",
       "       [ 3,  3,  7],\n",
       "       [ 9, 19, 18],\n",
       "       [ 4,  6, 12],\n",
       "       [ 1,  6,  7],\n",
       "       [14, 17,  5]])"
      ]
     },
     "execution_count": 77,
     "metadata": {},
     "output_type": "execute_result"
    }
   ],
   "source": [
    "np.random.seed(0)\n",
    "salesAmount =np.random.randint(20,size=(6,3))\n",
    "salesAmount"
   ]
  },
  {
   "cell_type": "code",
   "execution_count": 78,
   "id": "289a80f0",
   "metadata": {},
   "outputs": [
    {
     "data": {
      "text/html": [
       "<div>\n",
       "<style scoped>\n",
       "    .dataframe tbody tr th:only-of-type {\n",
       "        vertical-align: middle;\n",
       "    }\n",
       "\n",
       "    .dataframe tbody tr th {\n",
       "        vertical-align: top;\n",
       "    }\n",
       "\n",
       "    .dataframe thead th {\n",
       "        text-align: right;\n",
       "    }\n",
       "</style>\n",
       "<table border=\"1\" class=\"dataframe\">\n",
       "  <thead>\n",
       "    <tr style=\"text-align: right;\">\n",
       "      <th></th>\n",
       "      <th>Almond butter</th>\n",
       "      <th>Peanut</th>\n",
       "      <th>cashew</th>\n",
       "    </tr>\n",
       "  </thead>\n",
       "  <tbody>\n",
       "    <tr>\n",
       "      <th>mon</th>\n",
       "      <td>12</td>\n",
       "      <td>15</td>\n",
       "      <td>0</td>\n",
       "    </tr>\n",
       "    <tr>\n",
       "      <th>tues</th>\n",
       "      <td>3</td>\n",
       "      <td>3</td>\n",
       "      <td>7</td>\n",
       "    </tr>\n",
       "    <tr>\n",
       "      <th>wed</th>\n",
       "      <td>9</td>\n",
       "      <td>19</td>\n",
       "      <td>18</td>\n",
       "    </tr>\n",
       "    <tr>\n",
       "      <th>thus</th>\n",
       "      <td>4</td>\n",
       "      <td>6</td>\n",
       "      <td>12</td>\n",
       "    </tr>\n",
       "    <tr>\n",
       "      <th>fri</th>\n",
       "      <td>1</td>\n",
       "      <td>6</td>\n",
       "      <td>7</td>\n",
       "    </tr>\n",
       "    <tr>\n",
       "      <th>sat</th>\n",
       "      <td>14</td>\n",
       "      <td>17</td>\n",
       "      <td>5</td>\n",
       "    </tr>\n",
       "  </tbody>\n",
       "</table>\n",
       "</div>"
      ],
      "text/plain": [
       "      Almond butter  Peanut  cashew\n",
       "mon              12      15       0\n",
       "tues              3       3       7\n",
       "wed               9      19      18\n",
       "thus              4       6      12\n",
       "fri               1       6       7\n",
       "sat              14      17       5"
      ]
     },
     "execution_count": 78,
     "metadata": {},
     "output_type": "execute_result"
    }
   ],
   "source": [
    "weekySales=pd.DataFrame(salesAmount,index=[\"mon\",\"tues\",\"wed\",\"thus\",\"fri\",\"sat\"],\n",
    "                       columns=[\"Almond butter\",\"Peanut\",\"cashew\"])\n",
    "weekySales"
   ]
  },
  {
   "cell_type": "code",
   "execution_count": 79,
   "id": "eefc34f1",
   "metadata": {},
   "outputs": [],
   "source": [
    "weekySales.to_csv(\"weeky-Sales\")"
   ]
  },
  {
   "cell_type": "code",
   "execution_count": 80,
   "id": "3731306b",
   "metadata": {},
   "outputs": [
    {
     "data": {
      "text/plain": [
       "array([12, 21, 34])"
      ]
     },
     "execution_count": 80,
     "metadata": {},
     "output_type": "execute_result"
    }
   ],
   "source": [
    "prices=np.array([12,21,34])\n",
    "prices"
   ]
  },
  {
   "cell_type": "markdown",
   "id": "e08a18cc",
   "metadata": {},
   "source": [
    "# Reshape\n",
    "\n",
    "* Returns an array containing the same data with a new shape."
   ]
  },
  {
   "cell_type": "code",
   "execution_count": 81,
   "id": "6b5d61f8",
   "metadata": {},
   "outputs": [
    {
     "data": {
      "text/html": [
       "<div>\n",
       "<style scoped>\n",
       "    .dataframe tbody tr th:only-of-type {\n",
       "        vertical-align: middle;\n",
       "    }\n",
       "\n",
       "    .dataframe tbody tr th {\n",
       "        vertical-align: top;\n",
       "    }\n",
       "\n",
       "    .dataframe thead th {\n",
       "        text-align: right;\n",
       "    }\n",
       "</style>\n",
       "<table border=\"1\" class=\"dataframe\">\n",
       "  <thead>\n",
       "    <tr style=\"text-align: right;\">\n",
       "      <th></th>\n",
       "      <th>Almond butter</th>\n",
       "      <th>Peanut</th>\n",
       "      <th>cashew</th>\n",
       "    </tr>\n",
       "  </thead>\n",
       "  <tbody>\n",
       "    <tr>\n",
       "      <th>price</th>\n",
       "      <td>12</td>\n",
       "      <td>21</td>\n",
       "      <td>34</td>\n",
       "    </tr>\n",
       "  </tbody>\n",
       "</table>\n",
       "</div>"
      ],
      "text/plain": [
       "       Almond butter  Peanut  cashew\n",
       "price             12      21      34"
      ]
     },
     "execution_count": 81,
     "metadata": {},
     "output_type": "execute_result"
    }
   ],
   "source": [
    "butterPrices=pd.DataFrame(prices.reshape(1,3),index=[\"price\"],columns=[\"Almond butter\",\"Peanut\",\"cashew\"])\n",
    "butterPrices"
   ]
  },
  {
   "cell_type": "code",
   "execution_count": 82,
   "id": "02102f82",
   "metadata": {},
   "outputs": [
    {
     "data": {
      "text/plain": [
       "array([ 459,  337, 1119,  582,  376,  695])"
      ]
     },
     "execution_count": 82,
     "metadata": {},
     "output_type": "execute_result"
    }
   ],
   "source": [
    "totalPrice =prices.dot(salesAmount.T)\n",
    "totalPrice"
   ]
  },
  {
   "cell_type": "code",
   "execution_count": 83,
   "id": "a1ed41e1",
   "metadata": {},
   "outputs": [
    {
     "data": {
      "text/html": [
       "<div>\n",
       "<style scoped>\n",
       "    .dataframe tbody tr th:only-of-type {\n",
       "        vertical-align: middle;\n",
       "    }\n",
       "\n",
       "    .dataframe tbody tr th {\n",
       "        vertical-align: top;\n",
       "    }\n",
       "\n",
       "    .dataframe thead th {\n",
       "        text-align: right;\n",
       "    }\n",
       "</style>\n",
       "<table border=\"1\" class=\"dataframe\">\n",
       "  <thead>\n",
       "    <tr style=\"text-align: right;\">\n",
       "      <th></th>\n",
       "      <th>Almond butter</th>\n",
       "      <th>Peanut</th>\n",
       "      <th>cashew</th>\n",
       "    </tr>\n",
       "  </thead>\n",
       "  <tbody>\n",
       "    <tr>\n",
       "      <th>price</th>\n",
       "      <td>12</td>\n",
       "      <td>21</td>\n",
       "      <td>34</td>\n",
       "    </tr>\n",
       "  </tbody>\n",
       "</table>\n",
       "</div>"
      ],
      "text/plain": [
       "       Almond butter  Peanut  cashew\n",
       "price             12      21      34"
      ]
     },
     "execution_count": 83,
     "metadata": {},
     "output_type": "execute_result"
    }
   ],
   "source": [
    "butterPrices"
   ]
  },
  {
   "cell_type": "code",
   "execution_count": 84,
   "id": "0f8a8c2f",
   "metadata": {},
   "outputs": [
    {
     "data": {
      "text/html": [
       "<div>\n",
       "<style scoped>\n",
       "    .dataframe tbody tr th:only-of-type {\n",
       "        vertical-align: middle;\n",
       "    }\n",
       "\n",
       "    .dataframe tbody tr th {\n",
       "        vertical-align: top;\n",
       "    }\n",
       "\n",
       "    .dataframe thead th {\n",
       "        text-align: right;\n",
       "    }\n",
       "</style>\n",
       "<table border=\"1\" class=\"dataframe\">\n",
       "  <thead>\n",
       "    <tr style=\"text-align: right;\">\n",
       "      <th></th>\n",
       "      <th>Almond butter</th>\n",
       "      <th>Peanut</th>\n",
       "      <th>cashew</th>\n",
       "    </tr>\n",
       "  </thead>\n",
       "  <tbody>\n",
       "    <tr>\n",
       "      <th>mon</th>\n",
       "      <td>12</td>\n",
       "      <td>15</td>\n",
       "      <td>0</td>\n",
       "    </tr>\n",
       "    <tr>\n",
       "      <th>tues</th>\n",
       "      <td>3</td>\n",
       "      <td>3</td>\n",
       "      <td>7</td>\n",
       "    </tr>\n",
       "    <tr>\n",
       "      <th>wed</th>\n",
       "      <td>9</td>\n",
       "      <td>19</td>\n",
       "      <td>18</td>\n",
       "    </tr>\n",
       "    <tr>\n",
       "      <th>thus</th>\n",
       "      <td>4</td>\n",
       "      <td>6</td>\n",
       "      <td>12</td>\n",
       "    </tr>\n",
       "    <tr>\n",
       "      <th>fri</th>\n",
       "      <td>1</td>\n",
       "      <td>6</td>\n",
       "      <td>7</td>\n",
       "    </tr>\n",
       "    <tr>\n",
       "      <th>sat</th>\n",
       "      <td>14</td>\n",
       "      <td>17</td>\n",
       "      <td>5</td>\n",
       "    </tr>\n",
       "  </tbody>\n",
       "</table>\n",
       "</div>"
      ],
      "text/plain": [
       "      Almond butter  Peanut  cashew\n",
       "mon              12      15       0\n",
       "tues              3       3       7\n",
       "wed               9      19      18\n",
       "thus              4       6      12\n",
       "fri               1       6       7\n",
       "sat              14      17       5"
      ]
     },
     "execution_count": 84,
     "metadata": {},
     "output_type": "execute_result"
    }
   ],
   "source": [
    "weekySales"
   ]
  },
  {
   "cell_type": "code",
   "execution_count": 85,
   "id": "0a4efdae",
   "metadata": {},
   "outputs": [
    {
     "data": {
      "text/html": [
       "<div>\n",
       "<style scoped>\n",
       "    .dataframe tbody tr th:only-of-type {\n",
       "        vertical-align: middle;\n",
       "    }\n",
       "\n",
       "    .dataframe tbody tr th {\n",
       "        vertical-align: top;\n",
       "    }\n",
       "\n",
       "    .dataframe thead th {\n",
       "        text-align: right;\n",
       "    }\n",
       "</style>\n",
       "<table border=\"1\" class=\"dataframe\">\n",
       "  <thead>\n",
       "    <tr style=\"text-align: right;\">\n",
       "      <th></th>\n",
       "      <th>mon</th>\n",
       "      <th>tues</th>\n",
       "      <th>wed</th>\n",
       "      <th>thus</th>\n",
       "      <th>fri</th>\n",
       "      <th>sat</th>\n",
       "    </tr>\n",
       "  </thead>\n",
       "  <tbody>\n",
       "    <tr>\n",
       "      <th>price</th>\n",
       "      <td>459</td>\n",
       "      <td>337</td>\n",
       "      <td>1119</td>\n",
       "      <td>582</td>\n",
       "      <td>376</td>\n",
       "      <td>695</td>\n",
       "    </tr>\n",
       "  </tbody>\n",
       "</table>\n",
       "</div>"
      ],
      "text/plain": [
       "       mon  tues   wed  thus  fri  sat\n",
       "price  459   337  1119   582  376  695"
      ]
     },
     "execution_count": 85,
     "metadata": {},
     "output_type": "execute_result"
    }
   ],
   "source": [
    "dailySales =butterPrices.dot(weekySales.T)\n",
    "dailySales"
   ]
  },
  {
   "cell_type": "code",
   "execution_count": 86,
   "id": "073d4bae",
   "metadata": {},
   "outputs": [
    {
     "data": {
      "text/html": [
       "<div>\n",
       "<style scoped>\n",
       "    .dataframe tbody tr th:only-of-type {\n",
       "        vertical-align: middle;\n",
       "    }\n",
       "\n",
       "    .dataframe tbody tr th {\n",
       "        vertical-align: top;\n",
       "    }\n",
       "\n",
       "    .dataframe thead th {\n",
       "        text-align: right;\n",
       "    }\n",
       "</style>\n",
       "<table border=\"1\" class=\"dataframe\">\n",
       "  <thead>\n",
       "    <tr style=\"text-align: right;\">\n",
       "      <th></th>\n",
       "      <th>Almond butter</th>\n",
       "      <th>Peanut</th>\n",
       "      <th>cashew</th>\n",
       "      <th>Total</th>\n",
       "    </tr>\n",
       "  </thead>\n",
       "  <tbody>\n",
       "    <tr>\n",
       "      <th>mon</th>\n",
       "      <td>12</td>\n",
       "      <td>15</td>\n",
       "      <td>0</td>\n",
       "      <td>459</td>\n",
       "    </tr>\n",
       "    <tr>\n",
       "      <th>tues</th>\n",
       "      <td>3</td>\n",
       "      <td>3</td>\n",
       "      <td>7</td>\n",
       "      <td>337</td>\n",
       "    </tr>\n",
       "    <tr>\n",
       "      <th>wed</th>\n",
       "      <td>9</td>\n",
       "      <td>19</td>\n",
       "      <td>18</td>\n",
       "      <td>1119</td>\n",
       "    </tr>\n",
       "    <tr>\n",
       "      <th>thus</th>\n",
       "      <td>4</td>\n",
       "      <td>6</td>\n",
       "      <td>12</td>\n",
       "      <td>582</td>\n",
       "    </tr>\n",
       "    <tr>\n",
       "      <th>fri</th>\n",
       "      <td>1</td>\n",
       "      <td>6</td>\n",
       "      <td>7</td>\n",
       "      <td>376</td>\n",
       "    </tr>\n",
       "    <tr>\n",
       "      <th>sat</th>\n",
       "      <td>14</td>\n",
       "      <td>17</td>\n",
       "      <td>5</td>\n",
       "      <td>695</td>\n",
       "    </tr>\n",
       "  </tbody>\n",
       "</table>\n",
       "</div>"
      ],
      "text/plain": [
       "      Almond butter  Peanut  cashew  Total\n",
       "mon              12      15       0    459\n",
       "tues              3       3       7    337\n",
       "wed               9      19      18   1119\n",
       "thus              4       6      12    582\n",
       "fri               1       6       7    376\n",
       "sat              14      17       5    695"
      ]
     },
     "execution_count": 86,
     "metadata": {},
     "output_type": "execute_result"
    }
   ],
   "source": [
    "weekySales[\"Total\"] =dailySales.T\n",
    "weekySales"
   ]
  },
  {
   "cell_type": "markdown",
   "id": "56d7f9b8",
   "metadata": {},
   "source": [
    "### Comparison Operator"
   ]
  },
  {
   "cell_type": "code",
   "execution_count": 87,
   "id": "4b921035",
   "metadata": {},
   "outputs": [
    {
     "data": {
      "text/plain": [
       "(array([[12,  3,  4],\n",
       "        [ 5, 17,  8]]),\n",
       " array([1, 2, 3]))"
      ]
     },
     "execution_count": 87,
     "metadata": {},
     "output_type": "execute_result"
    }
   ],
   "source": [
    "a2=np.array([[12,3,4],[5,17,8]])\n",
    "a2,al"
   ]
  },
  {
   "cell_type": "code",
   "execution_count": 88,
   "id": "5e00f1d8",
   "metadata": {},
   "outputs": [
    {
     "data": {
      "text/plain": [
       "array([[False, False, False],\n",
       "       [False, False, False]])"
      ]
     },
     "execution_count": 88,
     "metadata": {},
     "output_type": "execute_result"
    }
   ],
   "source": [
    " al>=a2"
   ]
  },
  {
   "cell_type": "code",
   "execution_count": 89,
   "id": "30af3b4a",
   "metadata": {},
   "outputs": [
    {
     "data": {
      "text/plain": [
       "array([False, False,  True])"
      ]
     },
     "execution_count": 89,
     "metadata": {},
     "output_type": "execute_result"
    }
   ],
   "source": [
    "al>2"
   ]
  },
  {
   "cell_type": "code",
   "execution_count": 90,
   "id": "ed6b4f23",
   "metadata": {},
   "outputs": [
    {
     "data": {
      "text/plain": [
       "array([[False, False, False],\n",
       "       [False, False, False]])"
      ]
     },
     "execution_count": 90,
     "metadata": {},
     "output_type": "execute_result"
    }
   ],
   "source": [
    "al==a2"
   ]
  },
  {
   "cell_type": "markdown",
   "id": "0942cda4",
   "metadata": {},
   "source": [
    "# Sorting"
   ]
  },
  {
   "cell_type": "code",
   "execution_count": 91,
   "id": "8311587f",
   "metadata": {},
   "outputs": [
    {
     "data": {
      "text/plain": [
       "array([[12,  3,  4],\n",
       "       [ 5, 17,  8]])"
      ]
     },
     "execution_count": 91,
     "metadata": {},
     "output_type": "execute_result"
    }
   ],
   "source": [
    "a2"
   ]
  },
  {
   "cell_type": "markdown",
   "id": "53f86fa0",
   "metadata": {},
   "source": [
    "## NP.SORT\n",
    "\n",
    "* Return a sorted copy of an array"
   ]
  },
  {
   "cell_type": "code",
   "execution_count": 92,
   "id": "f7475265",
   "metadata": {},
   "outputs": [
    {
     "data": {
      "text/plain": [
       "array([[ 3,  4, 12],\n",
       "       [ 5,  8, 17]])"
      ]
     },
     "execution_count": 92,
     "metadata": {},
     "output_type": "execute_result"
    }
   ],
   "source": [
    "np.sort(a2)"
   ]
  },
  {
   "cell_type": "markdown",
   "id": "2d5747f3",
   "metadata": {},
   "source": [
    "## NP.ARGSORT\n",
    "\n",
    "* Returns the indices that would sort an array"
   ]
  },
  {
   "cell_type": "code",
   "execution_count": 93,
   "id": "900a219c",
   "metadata": {},
   "outputs": [
    {
     "data": {
      "text/plain": [
       "array([[1, 2, 0],\n",
       "       [0, 2, 1]], dtype=int64)"
      ]
     },
     "execution_count": 93,
     "metadata": {},
     "output_type": "execute_result"
    }
   ],
   "source": [
    "np.argsort(a2)"
   ]
  },
  {
   "cell_type": "markdown",
   "id": "272bcf41",
   "metadata": {},
   "source": [
    "## NP.ARGMAX\n",
    "\n",
    "* Returns the indices of the maximum values along an axis"
   ]
  },
  {
   "cell_type": "code",
   "execution_count": 94,
   "id": "bcc4a50c",
   "metadata": {},
   "outputs": [
    {
     "data": {
      "text/plain": [
       "array([0, 1, 1], dtype=int64)"
      ]
     },
     "execution_count": 94,
     "metadata": {},
     "output_type": "execute_result"
    }
   ],
   "source": [
    "# col\n",
    "np.argmax(a2,axis=0)"
   ]
  },
  {
   "cell_type": "code",
   "execution_count": 95,
   "id": "5f886a63",
   "metadata": {},
   "outputs": [
    {
     "data": {
      "text/plain": [
       "array([0, 1], dtype=int64)"
      ]
     },
     "execution_count": 95,
     "metadata": {},
     "output_type": "execute_result"
    }
   ],
   "source": [
    "#row\n",
    "np.argmax(a2,axis=1)"
   ]
  },
  {
   "cell_type": "markdown",
   "id": "2d5cc7dc",
   "metadata": {},
   "source": [
    "# Practical Example "
   ]
  },
  {
   "cell_type": "code",
   "execution_count": 96,
   "id": "fbcaf633",
   "metadata": {},
   "outputs": [
    {
     "data": {
      "text/html": [
       "<img src=\"images/panda.png\"  height=10 width=200/>\n"
      ],
      "text/plain": [
       "<IPython.core.display.HTML object>"
      ]
     },
     "metadata": {},
     "output_type": "display_data"
    }
   ],
   "source": [
    "%%HTML\n",
    "<img src=\"images/panda.png\"  height=10 width=200/>"
   ]
  },
  {
   "cell_type": "markdown",
   "id": "f51e697d",
   "metadata": {},
   "source": [
    "## IMREAD\n",
    "\n",
    "* Read an image from a file into an array"
   ]
  },
  {
   "cell_type": "code",
   "execution_count": 97,
   "id": "44ad87fd",
   "metadata": {},
   "outputs": [
    {
     "name": "stdout",
     "output_type": "stream",
     "text": [
      "Using matplotlib backend: QtAgg\n"
     ]
    },
    {
     "data": {
      "text/plain": [
       "array([[[0.05490196, 0.10588235, 0.06666667],\n",
       "        [0.05490196, 0.10588235, 0.06666667],\n",
       "        [0.05490196, 0.10588235, 0.06666667],\n",
       "        ...,\n",
       "        [0.16470589, 0.12941177, 0.09411765],\n",
       "        [0.16470589, 0.12941177, 0.09411765],\n",
       "        [0.16470589, 0.12941177, 0.09411765]],\n",
       "\n",
       "       [[0.05490196, 0.10588235, 0.06666667],\n",
       "        [0.05490196, 0.10588235, 0.06666667],\n",
       "        [0.05490196, 0.10588235, 0.06666667],\n",
       "        ...,\n",
       "        [0.16470589, 0.12941177, 0.09411765],\n",
       "        [0.16470589, 0.12941177, 0.09411765],\n",
       "        [0.16470589, 0.12941177, 0.09411765]],\n",
       "\n",
       "       [[0.05490196, 0.10588235, 0.06666667],\n",
       "        [0.05490196, 0.10588235, 0.06666667],\n",
       "        [0.05490196, 0.10588235, 0.06666667],\n",
       "        ...,\n",
       "        [0.16470589, 0.12941177, 0.09411765],\n",
       "        [0.16470589, 0.12941177, 0.09411765],\n",
       "        [0.16470589, 0.12941177, 0.09411765]],\n",
       "\n",
       "       ...,\n",
       "\n",
       "       [[0.13333334, 0.07450981, 0.05490196],\n",
       "        [0.12156863, 0.0627451 , 0.04313726],\n",
       "        [0.10980392, 0.05098039, 0.03137255],\n",
       "        ...,\n",
       "        [0.02745098, 0.02745098, 0.03529412],\n",
       "        [0.02745098, 0.02745098, 0.03529412],\n",
       "        [0.02745098, 0.02745098, 0.03529412]],\n",
       "\n",
       "       [[0.13333334, 0.07450981, 0.05490196],\n",
       "        [0.12156863, 0.0627451 , 0.04313726],\n",
       "        [0.12156863, 0.0627451 , 0.04313726],\n",
       "        ...,\n",
       "        [0.02352941, 0.02352941, 0.03137255],\n",
       "        [0.02352941, 0.02352941, 0.03137255],\n",
       "        [0.02352941, 0.02352941, 0.03137255]],\n",
       "\n",
       "       [[0.13333334, 0.07450981, 0.05490196],\n",
       "        [0.12156863, 0.0627451 , 0.04313726],\n",
       "        [0.12156863, 0.0627451 , 0.04313726],\n",
       "        ...,\n",
       "        [0.02352941, 0.02352941, 0.03137255],\n",
       "        [0.02352941, 0.02352941, 0.03137255],\n",
       "        [0.02352941, 0.02352941, 0.03137255]]], dtype=float32)"
      ]
     },
     "execution_count": 97,
     "metadata": {},
     "output_type": "execute_result"
    }
   ],
   "source": [
    "# Turn image into Numpy \n",
    "%matplotlib\n",
    "from matplotlib.image import imread\n",
    "\n",
    "panda =imread(\"images/panda.png\")\n",
    "panda"
   ]
  },
  {
   "cell_type": "code",
   "execution_count": 98,
   "id": "1ba3e8a0",
   "metadata": {},
   "outputs": [
    {
     "data": {
      "text/plain": [
       "(24465000, (2330, 3500, 3))"
      ]
     },
     "execution_count": 98,
     "metadata": {},
     "output_type": "execute_result"
    }
   ],
   "source": [
    "panda.size,panda.shape"
   ]
  },
  {
   "cell_type": "code",
   "execution_count": 99,
   "id": "d8148b52",
   "metadata": {},
   "outputs": [
    {
     "data": {
      "text/plain": [
       "array([0.05490196, 0.10588235, 0.06666667], dtype=float32)"
      ]
     },
     "execution_count": 99,
     "metadata": {},
     "output_type": "execute_result"
    }
   ],
   "source": [
    "panda[2][3]"
   ]
  },
  {
   "cell_type": "code",
   "execution_count": 100,
   "id": "506fd85d",
   "metadata": {},
   "outputs": [
    {
     "data": {
      "text/plain": [
       "array([[[0.05490196, 0.10588235, 0.06666667],\n",
       "        [0.05490196, 0.10588235, 0.06666667],\n",
       "        [0.05490196, 0.10588235, 0.06666667],\n",
       "        ...,\n",
       "        [0.16470589, 0.12941177, 0.09411765],\n",
       "        [0.16470589, 0.12941177, 0.09411765],\n",
       "        [0.16470589, 0.12941177, 0.09411765]],\n",
       "\n",
       "       [[0.05490196, 0.10588235, 0.06666667],\n",
       "        [0.05490196, 0.10588235, 0.06666667],\n",
       "        [0.05490196, 0.10588235, 0.06666667],\n",
       "        ...,\n",
       "        [0.16470589, 0.12941177, 0.09411765],\n",
       "        [0.16470589, 0.12941177, 0.09411765],\n",
       "        [0.16470589, 0.12941177, 0.09411765]],\n",
       "\n",
       "       [[0.05490196, 0.10588235, 0.06666667],\n",
       "        [0.05490196, 0.10588235, 0.06666667],\n",
       "        [0.05490196, 0.10588235, 0.06666667],\n",
       "        ...,\n",
       "        [0.16470589, 0.12941177, 0.09411765],\n",
       "        [0.16470589, 0.12941177, 0.09411765],\n",
       "        [0.16470589, 0.12941177, 0.09411765]],\n",
       "\n",
       "       ...,\n",
       "\n",
       "       [[0.13333334, 0.07450981, 0.05490196],\n",
       "        [0.12156863, 0.0627451 , 0.04313726],\n",
       "        [0.10980392, 0.05098039, 0.03137255],\n",
       "        ...,\n",
       "        [0.02745098, 0.02745098, 0.03529412],\n",
       "        [0.02745098, 0.02745098, 0.03529412],\n",
       "        [0.02745098, 0.02745098, 0.03529412]],\n",
       "\n",
       "       [[0.13333334, 0.07450981, 0.05490196],\n",
       "        [0.12156863, 0.0627451 , 0.04313726],\n",
       "        [0.12156863, 0.0627451 , 0.04313726],\n",
       "        ...,\n",
       "        [0.02352941, 0.02352941, 0.03137255],\n",
       "        [0.02352941, 0.02352941, 0.03137255],\n",
       "        [0.02352941, 0.02352941, 0.03137255]],\n",
       "\n",
       "       [[0.13333334, 0.07450981, 0.05490196],\n",
       "        [0.12156863, 0.0627451 , 0.04313726],\n",
       "        [0.12156863, 0.0627451 , 0.04313726],\n",
       "        ...,\n",
       "        [0.02352941, 0.02352941, 0.03137255],\n",
       "        [0.02352941, 0.02352941, 0.03137255],\n",
       "        [0.02352941, 0.02352941, 0.03137255]]], dtype=float32)"
      ]
     },
     "execution_count": 100,
     "metadata": {},
     "output_type": "execute_result"
    }
   ],
   "source": [
    "panda[:]"
   ]
  },
  {
   "cell_type": "code",
   "execution_count": 101,
   "id": "4157cd57",
   "metadata": {},
   "outputs": [
    {
     "data": {
      "text/plain": [
       "numpy.ndarray"
      ]
     },
     "execution_count": 101,
     "metadata": {},
     "output_type": "execute_result"
    }
   ],
   "source": [
    "type(panda)"
   ]
  },
  {
   "cell_type": "code",
   "execution_count": 102,
   "id": "10544347",
   "metadata": {},
   "outputs": [],
   "source": [
    "from PIL import Image"
   ]
  },
  {
   "cell_type": "code",
   "execution_count": 103,
   "id": "e7834f72",
   "metadata": {},
   "outputs": [],
   "source": [
    "w,h=512,512\n",
    "data =np.zeros((w,h,3),dtype=np.uint8)\n",
    "img =Image.fromarray(data,\"RGB\")\n",
    "img.show()"
   ]
  },
  {
   "cell_type": "code",
   "execution_count": 104,
   "id": "9a8ea283",
   "metadata": {},
   "outputs": [],
   "source": [
    "w,h=512,512\n",
    "data =np.ones((w,h,3),dtype=np.uint8)\n",
    "img =Image.fromarray(data,\"RGB\")\n",
    "img.show()"
   ]
  },
  {
   "cell_type": "code",
   "execution_count": null,
   "id": "c6d2d3e1",
   "metadata": {},
   "outputs": [],
   "source": []
  },
  {
   "cell_type": "code",
   "execution_count": null,
   "id": "1c1d3ac8",
   "metadata": {},
   "outputs": [],
   "source": []
  }
 ],
 "metadata": {
  "kernelspec": {
   "display_name": "Python 3 (ipykernel)",
   "language": "python",
   "name": "python3"
  },
  "language_info": {
   "codemirror_mode": {
    "name": "ipython",
    "version": 3
   },
   "file_extension": ".py",
   "mimetype": "text/x-python",
   "name": "python",
   "nbconvert_exporter": "python",
   "pygments_lexer": "ipython3",
   "version": "3.10.9"
  }
 },
 "nbformat": 4,
 "nbformat_minor": 5
}
